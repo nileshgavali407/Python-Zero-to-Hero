{
  "nbformat": 4,
  "nbformat_minor": 0,
  "metadata": {
    "colab": {
      "name": "day7assignment.ipynb",
      "provenance": []
    },
    "kernelspec": {
      "name": "python3",
      "display_name": "Python 3"
    },
    "language_info": {
      "name": "python"
    }
  },
  "cells": [
    {
      "cell_type": "code",
      "execution_count": null,
      "metadata": {
        "id": "yQTAGhtbBlL6"
      },
      "outputs": [],
      "source": [
        "# Day 7 Assignment - Python Database Connection Project which updates any one value in the table and select all the table data and print it.\n",
        "\n",
        "import mysql.connector as sql           # importing module\n",
        "\n",
        "# Connecting the local mysql database\n",
        "database = sql.connect(host = 'localhost', user = 'root', passwd = 'ferrari458', database = 'schooldata')\n",
        "\n",
        "cur = database.cursor()\n",
        "\n",
        "\n",
        "cur.execute(\"update student set Eng_mark = 80 where Roll_no = 122\")     # Update the record \n",
        "cur.execute(\"select * from student\")        # View the table\n",
        "\n",
        "for i in cur:\n",
        "    print(i)\n",
        "\n",
        "cur.close()\n",
        "database.commit()       # commit changes or save changes.\n"
      ]
    }
  ]
}