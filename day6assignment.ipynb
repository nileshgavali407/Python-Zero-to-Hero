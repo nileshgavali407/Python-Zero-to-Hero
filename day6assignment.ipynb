{
  "nbformat": 4,
  "nbformat_minor": 0,
  "metadata": {
    "colab": {
      "name": "day6assignment.ipynb",
      "provenance": []
    },
    "kernelspec": {
      "name": "python3",
      "display_name": "Python 3"
    },
    "language_info": {
      "name": "python"
    }
  },
  "cells": [
    {
      "cell_type": "code",
      "execution_count": 1,
      "metadata": {
        "colab": {
          "base_uri": "https://localhost:8080/"
        },
        "id": "WbnMUtpW5ZE3",
        "outputId": "51100ba7-8d0a-4de6-bec8-2f2737d0992d"
      },
      "outputs": [
        {
          "output_type": "stream",
          "name": "stdout",
          "text": [
            "Enter two Nunbers: 55\n",
            "Enter two Nunbers: 77\n",
            "55 77\n",
            "1\n"
          ]
        }
      ],
      "source": [
        "# Day 6 Assignment : Floor divison of any two number by using Decorators.\n",
        "\n",
        "def decorators(fun):\n",
        "\tdef deno(num1, num2):\n",
        "\t\tif num1 < num2 :\n",
        "\t\t\tnum1, num2 = num2, num1\n",
        "\t\treturn fun(num1, num2)\n",
        "\treturn deno\n",
        "\t\n",
        "@decorators\n",
        "def div(num1, num2):\n",
        "\treturn  num1 // num2\n",
        "\n",
        "num1 =int(input(\"Enter two Nunbers: \"))\n",
        "num2 =int(input(\"Enter two Nunbers: \"))\n",
        "print(num1,num2)\n",
        "\n",
        "\n",
        "print(div(num1, num2))"
      ]
    }
  ]
}